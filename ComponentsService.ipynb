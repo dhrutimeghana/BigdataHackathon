{
 "cells": [
  {
   "cell_type": "code",
   "execution_count": 1,
   "id": "c39c098e-294d-4dd5-a4a5-feff25406e78",
   "metadata": {},
   "outputs": [],
   "source": [
    "import pyspark"
   ]
  },
  {
   "cell_type": "code",
   "execution_count": 2,
   "id": "97cfa721-956b-44e3-a32c-4bfc7cf52c66",
   "metadata": {},
   "outputs": [],
   "source": [
    "from pyspark.sql import SparkSession"
   ]
  },
  {
   "cell_type": "code",
   "execution_count": 3,
   "id": "2ba1989b-1a67-4e12-b8b1-01f183cdd040",
   "metadata": {},
   "outputs": [
    {
     "name": "stderr",
     "output_type": "stream",
     "text": [
      "24/03/28 14:21:21 WARN Utils: Your hostname, Vemulapallis-Mac-mini.local resolves to a loopback address: 127.0.0.1; using 192.168.0.107 instead (on interface en1)\n",
      "24/03/28 14:21:21 WARN Utils: Set SPARK_LOCAL_IP if you need to bind to another address\n",
      "Setting default log level to \"WARN\".\n",
      "To adjust logging level use sc.setLogLevel(newLevel). For SparkR, use setLogLevel(newLevel).\n",
      "24/03/28 14:21:21 WARN NativeCodeLoader: Unable to load native-hadoop library for your platform... using builtin-java classes where applicable\n"
     ]
    }
   ],
   "source": [
    "spark = SparkSession.builder.appName('Pyspark').getOrCreate()"
   ]
  },
  {
   "cell_type": "code",
   "execution_count": 5,
   "id": "8685943c-a429-4447-909e-09a0cc7bedde",
   "metadata": {},
   "outputs": [],
   "source": [
    "ProductCategoryDF = spark.read.csv(\n",
    "        f'AdventureWorks/SalesLT.ProductCategory.csv',\n",
    "        header=True,\n",
    "        inferSchema=True\n",
    "    )"
   ]
  },
  {
   "cell_type": "code",
   "execution_count": 7,
   "id": "2b47c4da-4b35-45c4-913b-da023cc1da85",
   "metadata": {},
   "outputs": [
    {
     "data": {
      "text/plain": [
       "['ProductCategoryID',\n",
       " 'ParentProductCategoryID',\n",
       " 'Name',\n",
       " 'rowguid',\n",
       " 'ModifiedDate']"
      ]
     },
     "execution_count": 7,
     "metadata": {},
     "output_type": "execute_result"
    }
   ],
   "source": [
    "ProductCategoryDF.columns"
   ]
  },
  {
   "cell_type": "code",
   "execution_count": 9,
   "id": "900ff4d0-1e77-4c02-8e80-2cf155873635",
   "metadata": {},
   "outputs": [
    {
     "data": {
      "text/plain": [
       "[('ProductCategoryID', 'int'),\n",
       " ('ParentProductCategoryID', 'string'),\n",
       " ('Name', 'string'),\n",
       " ('rowguid', 'string'),\n",
       " ('ModifiedDate', 'string')]"
      ]
     },
     "execution_count": 9,
     "metadata": {},
     "output_type": "execute_result"
    }
   ],
   "source": [
    "ProductCategoryDF.dtypes"
   ]
  },
  {
   "cell_type": "code",
   "execution_count": 11,
   "id": "851c4302-dac7-496e-aef2-036f29804650",
   "metadata": {},
   "outputs": [],
   "source": [
    "from pyspark.sql.functions import col, isnan, when, count"
   ]
  },
  {
   "cell_type": "code",
   "execution_count": 13,
   "id": "99c85cfb-787f-41c1-bc54-6c8f81a6f287",
   "metadata": {},
   "outputs": [
    {
     "name": "stdout",
     "output_type": "stream",
     "text": [
      "+------------------------+\n",
      "|count(ProductCategoryID)|\n",
      "+------------------------+\n",
      "|                      41|\n",
      "+------------------------+\n",
      "\n"
     ]
    }
   ],
   "source": [
    "ProductCategoryDF.select(count('ProductCategoryID')).show()"
   ]
  },
  {
   "cell_type": "code",
   "execution_count": 14,
   "id": "2256ae61-f91b-4f7e-9339-04274de141a3",
   "metadata": {},
   "outputs": [
    {
     "name": "stdout",
     "output_type": "stream",
     "text": [
      "+-----------------+-----------------------+----+-------+------------+\n",
      "|ProductCategoryID|ParentProductCategoryID|Name|rowguid|ModifiedDate|\n",
      "+-----------------+-----------------------+----+-------+------------+\n",
      "|                0|                      4|   0|      0|           0|\n",
      "+-----------------+-----------------------+----+-------+------------+\n",
      "\n"
     ]
    }
   ],
   "source": [
    "ProductCategoryDF.select([count(when (col(c) == 'NULL',c)).alias(c) for c in ProductCategoryDF.columns]).show()"
   ]
  },
  {
   "cell_type": "code",
   "execution_count": 15,
   "id": "742c0f97-754f-464d-9183-75c3414c03ba",
   "metadata": {},
   "outputs": [
    {
     "name": "stdout",
     "output_type": "stream",
     "text": [
      "+-----------------+-----------------------+----+-------+------------+\n",
      "|ProductCategoryID|ParentProductCategoryID|Name|rowguid|ModifiedDate|\n",
      "+-----------------+-----------------------+----+-------+------------+\n",
      "|                0|                      0|   0|      0|          41|\n",
      "+-----------------+-----------------------+----+-------+------------+\n",
      "\n"
     ]
    }
   ],
   "source": [
    "ProductCategoryDF.select([count(when (col(c) == '00:00.0',c)).alias(c) for c in ProductCategoryDF.columns]).show()"
   ]
  },
  {
   "cell_type": "code",
   "execution_count": 18,
   "id": "e98b53f9-c9bd-469c-8a9c-a392e9bda723",
   "metadata": {},
   "outputs": [],
   "source": [
    "#Modified date column has all the values with invalid data 00:00.0 and can be dropped. We do not need rowguid and this can also be dropped.\n",
    "ProductCategoryDF = ProductCategoryDF.drop('ModifiedDate', 'rowguid')"
   ]
  },
  {
   "cell_type": "code",
   "execution_count": 19,
   "id": "708a1aaf-5657-4e51-8a53-9c57af02374a",
   "metadata": {},
   "outputs": [
    {
     "name": "stdout",
     "output_type": "stream",
     "text": [
      "+-----------------+-----------------------+---------------+\n",
      "|ProductCategoryID|ParentProductCategoryID|           Name|\n",
      "+-----------------+-----------------------+---------------+\n",
      "|                1|                   NULL|          Bikes|\n",
      "|                2|                   NULL|     Components|\n",
      "|                3|                   NULL|       Clothing|\n",
      "|                4|                   NULL|    Accessories|\n",
      "|                5|                      1| Mountain Bikes|\n",
      "|                6|                      1|     Road Bikes|\n",
      "|                7|                      1|  Touring Bikes|\n",
      "|                8|                      2|     Handlebars|\n",
      "|                9|                      2|Bottom Brackets|\n",
      "|               10|                      2|         Brakes|\n",
      "|               11|                      2|         Chains|\n",
      "|               12|                      2|      Cranksets|\n",
      "|               13|                      2|    Derailleurs|\n",
      "|               14|                      2|          Forks|\n",
      "|               15|                      2|       Headsets|\n",
      "|               16|                      2|Mountain Frames|\n",
      "|               17|                      2|         Pedals|\n",
      "|               18|                      2|    Road Frames|\n",
      "|               19|                      2|        Saddles|\n",
      "|               20|                      2| Touring Frames|\n",
      "+-----------------+-----------------------+---------------+\n",
      "only showing top 20 rows\n",
      "\n"
     ]
    }
   ],
   "source": [
    "ProductCategoryDF.show()"
   ]
  },
  {
   "cell_type": "code",
   "execution_count": 23,
   "id": "8811f377-887f-4ea2-ae6e-b45aa9627fa8",
   "metadata": {},
   "outputs": [
    {
     "name": "stdout",
     "output_type": "stream",
     "text": [
      "+-----------------------+-----+\n",
      "|ParentProductCategoryID|count|\n",
      "+-----------------------+-----+\n",
      "|                      3|    8|\n",
      "|                      1|    3|\n",
      "|                      4|   12|\n",
      "|                      2|   14|\n",
      "+-----------------------+-----+\n",
      "\n"
     ]
    }
   ],
   "source": [
    "# analyzing the categories of products based on ParentProductCategoryID\n",
    "ProductCategoryDF.groupBy('ParentProductCategoryID').count().where(col('ParentProductCategoryID') != 'NULL').show()"
   ]
  },
  {
   "cell_type": "code",
   "execution_count": 58,
   "id": "77f4e762-b926-4fad-9e4f-96e8720132a1",
   "metadata": {},
   "outputs": [
    {
     "name": "stdout",
     "output_type": "stream",
     "text": [
      "+----------------+-----------+\n",
      "|ParentCategoryID| ParentName|\n",
      "+----------------+-----------+\n",
      "|               1|      Bikes|\n",
      "|               2| Components|\n",
      "|               3|   Clothing|\n",
      "|               4|Accessories|\n",
      "+----------------+-----------+\n",
      "\n"
     ]
    }
   ],
   "source": [
    "#List of product categories which doesn't have a ParentCategory. These are the products to which other products are related to.\n",
    "ParentProductDF = ProductCategoryDF.select(col('ProductCategoryID').alias('ParentCategoryID'), col('Name').alias(\"ParentName\")).where(col('ParentProductCategoryID') == 'NULL')\n",
    "ParentProductDF.show()\n"
   ]
  },
  {
   "cell_type": "code",
   "execution_count": 67,
   "id": "6f0ef127-840a-4394-9b58-5a5cc98a26c6",
   "metadata": {},
   "outputs": [
    {
     "name": "stdout",
     "output_type": "stream",
     "text": [
      "+-----------------+-----------------------+---------------+----------------+----------+\n",
      "|ProductCategoryID|ParentProductCategoryID|           Name|ParentCategoryID|ParentName|\n",
      "+-----------------+-----------------------+---------------+----------------+----------+\n",
      "|                1|                   NULL|          Bikes|            null|      null|\n",
      "|                2|                   NULL|     Components|            null|      null|\n",
      "|                3|                   NULL|       Clothing|            null|      null|\n",
      "|                4|                   NULL|    Accessories|            null|      null|\n",
      "|                5|                      1| Mountain Bikes|               1|     Bikes|\n",
      "|                6|                      1|     Road Bikes|               1|     Bikes|\n",
      "|                7|                      1|  Touring Bikes|               1|     Bikes|\n",
      "|                8|                      2|     Handlebars|               2|Components|\n",
      "|                9|                      2|Bottom Brackets|               2|Components|\n",
      "|               10|                      2|         Brakes|               2|Components|\n",
      "|               11|                      2|         Chains|               2|Components|\n",
      "|               12|                      2|      Cranksets|               2|Components|\n",
      "|               13|                      2|    Derailleurs|               2|Components|\n",
      "|               14|                      2|          Forks|               2|Components|\n",
      "|               15|                      2|       Headsets|               2|Components|\n",
      "|               16|                      2|Mountain Frames|               2|Components|\n",
      "|               17|                      2|         Pedals|               2|Components|\n",
      "|               18|                      2|    Road Frames|               2|Components|\n",
      "|               19|                      2|        Saddles|               2|Components|\n",
      "|               20|                      2| Touring Frames|               2|Components|\n",
      "+-----------------+-----------------------+---------------+----------------+----------+\n",
      "only showing top 20 rows\n",
      "\n"
     ]
    }
   ],
   "source": [
    "# We can join the ProducutCategoryDF with the ParentProductDF to add the name of the parent Product to the product ID\n",
    "ProductCategorywithParentDF_tmp = ProductCategoryDF.join(ParentProductDF, ProductCategoryDF.ParentProductCategoryID==ParentProductDF.ParentCategoryID, 'left')\n",
    "ProductCategorywithParentDF_tmp.show()"
   ]
  },
  {
   "cell_type": "code",
   "execution_count": 78,
   "id": "045fad75-29f1-4102-8810-3dc9f17490ef",
   "metadata": {},
   "outputs": [
    {
     "name": "stdout",
     "output_type": "stream",
     "text": [
      "+---------------------+----------------+---------------+----------+\n",
      "|ProductCategoryID_par|ParentCategoryID|   CategoryName|ParentName|\n",
      "+---------------------+----------------+---------------+----------+\n",
      "|                    1|            null|          Bikes|      null|\n",
      "|                    2|            null|     Components|      null|\n",
      "|                    3|            null|       Clothing|      null|\n",
      "|                    4|            null|    Accessories|      null|\n",
      "|                    5|               1| Mountain Bikes|     Bikes|\n",
      "|                    6|               1|     Road Bikes|     Bikes|\n",
      "|                    7|               1|  Touring Bikes|     Bikes|\n",
      "|                    8|               2|     Handlebars|Components|\n",
      "|                    9|               2|Bottom Brackets|Components|\n",
      "|                   10|               2|         Brakes|Components|\n",
      "|                   11|               2|         Chains|Components|\n",
      "|                   12|               2|      Cranksets|Components|\n",
      "|                   13|               2|    Derailleurs|Components|\n",
      "|                   14|               2|          Forks|Components|\n",
      "|                   15|               2|       Headsets|Components|\n",
      "|                   16|               2|Mountain Frames|Components|\n",
      "|                   17|               2|         Pedals|Components|\n",
      "|                   18|               2|    Road Frames|Components|\n",
      "|                   19|               2|        Saddles|Components|\n",
      "|                   20|               2| Touring Frames|Components|\n",
      "+---------------------+----------------+---------------+----------+\n",
      "only showing top 20 rows\n",
      "\n"
     ]
    }
   ],
   "source": [
    "ProductCategoryWithParentDF = ProductCategorywithParentDF_tmp.select(col('ProductCategoryID').alias('ProductCategoryID_par'), col('ParentCategoryID'), col('Name').alias('CategoryName'),col('ParentName'))\n",
    "ProductCategoryWithParentDF.show()"
   ]
  },
  {
   "cell_type": "code",
   "execution_count": null,
   "id": "d66dbef7-70b5-4c4d-af68-a8f61e4e552f",
   "metadata": {},
   "outputs": [],
   "source": [
    "#From the analysis above, we can see that all the products with ParentCategoryID = 2 are the spare parts or components of Bikes.\n",
    "#To get the components related to a parent Product we can join the products table with the Parent Product category to add the\n",
    "#ParentProductID and parentProductName. "
   ]
  },
  {
   "cell_type": "code",
   "execution_count": null,
   "id": "83ccab26-7a9b-4ce3-8fb7-4c1b5981117b",
   "metadata": {},
   "outputs": [],
   "source": []
  },
  {
   "cell_type": "code",
   "execution_count": 46,
   "id": "af03129c-327d-4ebe-8fc3-cc4559e1b5c7",
   "metadata": {},
   "outputs": [],
   "source": [
    "#Convert Product table into Spark dataframe for analysis \n",
    "\n",
    "\n",
    "ProductsDF = spark.read.csv(f'AdventureWorks/SalesLT.Product.csv', header=True, inferSchema=True)"
   ]
  },
  {
   "cell_type": "code",
   "execution_count": 52,
   "id": "b2c70267-6e75-4516-b2f2-c4f8804f2b67",
   "metadata": {},
   "outputs": [
    {
     "name": "stdout",
     "output_type": "stream",
     "text": [
      "+---------+--------------------+-------------+-----+------------+---------+----+-------+-----------------+--------------+-------------+-----------+----------------+--------------------+----------------------+--------------------+------------+\n",
      "|ProductID|                Name|ProductNumber|Color|StandardCost|ListPrice|Size| Weight|ProductCategoryID|ProductModelID|SellStartDate|SellEndDate|DiscontinuedDate|      ThumbNailPhoto|ThumbnailPhotoFileName|             rowguid|ModifiedDate|\n",
      "+---------+--------------------+-------------+-----+------------+---------+----+-------+-----------------+--------------+-------------+-----------+----------------+--------------------+----------------------+--------------------+------------+\n",
      "|      680|HL Road Frame - B...|   FR-R92B-58|Black|     1059.31|   1431.5|  58|1016.04|               18|             6|      00:00.0|       NULL|            NULL|0x474946383961500...|  no_image_availabl...|43DD68D6-14A4-461...|     01:36.8|\n",
      "|      706|HL Road Frame - R...|   FR-R92R-58|  Red|     1059.31|   1431.5|  58|1016.04|               18|             6|      00:00.0|       NULL|            NULL|0x474946383961500...|  no_image_availabl...|9540FF17-2712-4C9...|     01:36.8|\n",
      "|      707|Sport-100 Helmet,...|    HL-U509-R|  Red|     13.0863|    34.99|NULL|   NULL|               35|            33|      00:00.0|       NULL|            NULL|0x474946383961500...|  no_image_availabl...|2E1EF41A-C08A-4FF...|     01:36.8|\n",
      "|      708|Sport-100 Helmet,...|      HL-U509|Black|     13.0863|    34.99|NULL|   NULL|               35|            33|      00:00.0|       NULL|            NULL|0x474946383961500...|  no_image_availabl...|A25A44FB-C2DE-426...|     01:36.8|\n",
      "|      709|Mountain Bike Soc...|    SO-B909-M|White|      3.3963|      9.5|   M|   NULL|               27|            18|      00:00.0|    00:00.0|            NULL|0x474946383961500...|  no_image_availabl...|18F95F47-1540-4E0...|     01:36.8|\n",
      "|      710|Mountain Bike Soc...|    SO-B909-L|White|      3.3963|      9.5|   L|   NULL|               27|            18|      00:00.0|    00:00.0|            NULL|0x474946383961500...|  no_image_availabl...|161C035E-21B3-4E1...|     01:36.8|\n",
      "|      711|Sport-100 Helmet,...|    HL-U509-B| Blue|     13.0863|    34.99|NULL|   NULL|               35|            33|      00:00.0|       NULL|            NULL|0x474946383961500...|  no_image_availabl...|FD7C0858-4179-48C...|     01:36.8|\n",
      "|      712|        AWC Logo Cap|      CA-1098|Multi|      6.9223|     8.99|NULL|   NULL|               23|             2|      00:00.0|       NULL|            NULL|0x474946383961500...|  no_image_availabl...|B9EDE243-A6F4-462...|     01:36.8|\n",
      "|      713|Long-Sleeve Logo ...|    LJ-0192-S|Multi|     38.4923|    49.99|   S|   NULL|               25|            11|      00:00.0|       NULL|            NULL|0x474946383961500...|  awc_jersey_male_s...|FD449C82-A259-4FA...|     01:36.8|\n",
      "|      714|Long-Sleeve Logo ...|    LJ-0192-M|Multi|     38.4923|    49.99|   M|   NULL|               25|            11|      00:00.0|       NULL|            NULL|0x474946383961500...|  awc_jersey_male_s...|6A290063-A0CF-432...|     01:36.8|\n",
      "|      715|Long-Sleeve Logo ...|    LJ-0192-L|Multi|     38.4923|    49.99|   L|   NULL|               25|            11|      00:00.0|       NULL|            NULL|0x474946383961500...|  awc_jersey_male_s...|34CF5EF5-C077-4EA...|     01:36.8|\n",
      "|      716|Long-Sleeve Logo ...|    LJ-0192-X|Multi|     38.4923|    49.99|  XL|   NULL|               25|            11|      00:00.0|       NULL|            NULL|0x474946383961500...|  awc_jersey_male_s...|6EC47EC9-C041-4DD...|     01:36.8|\n",
      "|      717|HL Road Frame - R...|   FR-R92R-62|  Red|    868.6342|   1431.5|  62|1043.26|               18|             6|      00:00.0|       NULL|            NULL|0x474946383961500...|  no_image_availabl...|052E4F8B-0A2A-46B...|     01:36.8|\n",
      "|      718|HL Road Frame - R...|   FR-R92R-44|  Red|    868.6342|   1431.5|  44| 961.61|               18|             6|      00:00.0|       NULL|            NULL|0x474946383961500...|  no_image_availabl...|A88D3B54-2CAE-43F...|     01:36.8|\n",
      "|      719|HL Road Frame - R...|   FR-R92R-48|  Red|    868.6342|   1431.5|  48| 979.75|               18|             6|      00:00.0|       NULL|            NULL|0x474946383961500...|  no_image_availabl...|07BEFC9A-7634-402...|     01:36.8|\n",
      "|      720|HL Road Frame - R...|   FR-R92R-52|  Red|    868.6342|   1431.5|  52|  997.9|               18|             6|      00:00.0|       NULL|            NULL|0x474946383961500...|  no_image_availabl...|FCFEA68F-310E-4E6...|     01:36.8|\n",
      "|      721|HL Road Frame - R...|   FR-R92R-56|  Red|    868.6342|   1431.5|  56|1016.04|               18|             6|      00:00.0|       NULL|            NULL|0x474946383961500...|  no_image_availabl...|56C85873-4993-41B...|     01:36.8|\n",
      "|      722|LL Road Frame - B...|   FR-R38B-58|Black|    204.6251|   337.22|  58|1115.83|               18|             9|      00:00.0|       NULL|            NULL|0x474946383961500...|  no_image_availabl...|2140F256-F705-4D6...|     01:36.8|\n",
      "|      723|LL Road Frame - B...|   FR-R38B-60|Black|    204.6251|   337.22|  60| 1124.9|               18|             9|      00:00.0|       NULL|            NULL|0x474946383961500...|  no_image_availabl...|AA95E2A5-E7C4-4B7...|     01:36.8|\n",
      "|      724|LL Road Frame - B...|   FR-R38B-62|Black|    204.6251|   337.22|  62|1133.98|               18|             9|      00:00.0|       NULL|            NULL|0x474946383961500...|  no_image_availabl...|5247BE33-50BF-452...|     01:36.8|\n",
      "+---------+--------------------+-------------+-----+------------+---------+----+-------+-----------------+--------------+-------------+-----------+----------------+--------------------+----------------------+--------------------+------------+\n",
      "only showing top 20 rows\n",
      "\n"
     ]
    }
   ],
   "source": [
    "ProductsDF.show()"
   ]
  },
  {
   "cell_type": "code",
   "execution_count": 81,
   "id": "7b0c34de-c9fb-4621-9129-e46c7e218fbc",
   "metadata": {},
   "outputs": [
    {
     "name": "stdout",
     "output_type": "stream",
     "text": [
      "+---------+--------------------+-----------------+------------+-----------+\n",
      "|ProductID|                Name|ProductCategoryID|CategoryName| ParentName|\n",
      "+---------+--------------------+-----------------+------------+-----------+\n",
      "|      680|HL Road Frame - B...|               18| Road Frames| Components|\n",
      "|      706|HL Road Frame - R...|               18| Road Frames| Components|\n",
      "|      707|Sport-100 Helmet,...|               35|     Helmets|Accessories|\n",
      "|      708|Sport-100 Helmet,...|               35|     Helmets|Accessories|\n",
      "|      709|Mountain Bike Soc...|               27|       Socks|   Clothing|\n",
      "|      710|Mountain Bike Soc...|               27|       Socks|   Clothing|\n",
      "|      711|Sport-100 Helmet,...|               35|     Helmets|Accessories|\n",
      "|      712|        AWC Logo Cap|               23|        Caps|   Clothing|\n",
      "|      713|Long-Sleeve Logo ...|               25|     Jerseys|   Clothing|\n",
      "|      714|Long-Sleeve Logo ...|               25|     Jerseys|   Clothing|\n",
      "|      715|Long-Sleeve Logo ...|               25|     Jerseys|   Clothing|\n",
      "|      716|Long-Sleeve Logo ...|               25|     Jerseys|   Clothing|\n",
      "|      717|HL Road Frame - R...|               18| Road Frames| Components|\n",
      "|      718|HL Road Frame - R...|               18| Road Frames| Components|\n",
      "|      719|HL Road Frame - R...|               18| Road Frames| Components|\n",
      "|      720|HL Road Frame - R...|               18| Road Frames| Components|\n",
      "|      721|HL Road Frame - R...|               18| Road Frames| Components|\n",
      "|      722|LL Road Frame - B...|               18| Road Frames| Components|\n",
      "|      723|LL Road Frame - B...|               18| Road Frames| Components|\n",
      "|      724|LL Road Frame - B...|               18| Road Frames| Components|\n",
      "+---------+--------------------+-----------------+------------+-----------+\n",
      "only showing top 20 rows\n",
      "\n"
     ]
    }
   ],
   "source": [
    "\n",
    "ProductswithParentDF = ProductsDF.join(ProductCategoryWithParentDF, ProductsDF.ProductCategoryID == ProductCategoryWithParentDF.ProductCategoryID_par, \"left\") \\\n",
    ".select(ProductsDF.ProductID, ProductsDF.Name, ProductsDF.ProductCategoryID, ProductCategoryWithParentDF.CategoryName,ProductCategoryWithParentDF.ParentName)\n",
    "ProductswithParentDF.show()"
   ]
  },
  {
   "cell_type": "code",
   "execution_count": 87,
   "id": "4b842c60-4f74-4e0f-b031-7c835b9b353a",
   "metadata": {},
   "outputs": [
    {
     "name": "stdout",
     "output_type": "stream",
     "text": [
      "+---------+--------------------+-----------------+---------------+----------+\n",
      "|ProductID|                Name|ProductCategoryID|   CategoryName|ParentName|\n",
      "+---------+--------------------+-----------------+---------------+----------+\n",
      "|      947|HL Touring Handle...|                8|     Handlebars|Components|\n",
      "|      946|LL Touring Handle...|                8|     Handlebars|Components|\n",
      "|      813|  HL Road Handlebars|                8|     Handlebars|Components|\n",
      "|      812|  ML Road Handlebars|                8|     Handlebars|Components|\n",
      "|      811|  LL Road Handlebars|                8|     Handlebars|Components|\n",
      "|      810|HL Mountain Handl...|                8|     Handlebars|Components|\n",
      "|      809|ML Mountain Handl...|                8|     Handlebars|Components|\n",
      "|      808|LL Mountain Handl...|                8|     Handlebars|Components|\n",
      "|      996|   HL Bottom Bracket|                9|Bottom Brackets|Components|\n",
      "|      995|   ML Bottom Bracket|                9|Bottom Brackets|Components|\n",
      "|      994|   LL Bottom Bracket|                9|Bottom Brackets|Components|\n",
      "|      948|        Front Brakes|               10|         Brakes|Components|\n",
      "|      907|         Rear Brakes|               10|         Brakes|Components|\n",
      "|      952|               Chain|               11|         Chains|Components|\n",
      "|      951|         HL Crankset|               12|      Cranksets|Components|\n",
      "|      950|         ML Crankset|               12|      Cranksets|Components|\n",
      "|      949|         LL Crankset|               12|      Cranksets|Components|\n",
      "|      945|    Front Derailleur|               13|    Derailleurs|Components|\n",
      "|      894|     Rear Derailleur|               13|    Derailleurs|Components|\n",
      "|      804|             HL Fork|               14|          Forks|Components|\n",
      "+---------+--------------------+-----------------+---------------+----------+\n",
      "only showing top 20 rows\n",
      "\n"
     ]
    }
   ],
   "source": [
    "#To get all the components select the products with ParentName a Components\n",
    "ProductswithParentDF.filter(ProductswithParentDF.ParentName == 'Components').show()"
   ]
  },
  {
   "cell_type": "code",
   "execution_count": null,
   "id": "7d00c8b9-07a9-40e9-8e76-85ffd8282cf7",
   "metadata": {},
   "outputs": [],
   "source": []
  }
 ],
 "metadata": {
  "kernelspec": {
   "display_name": "Python 3 (ipykernel)",
   "language": "python",
   "name": "python3"
  },
  "language_info": {
   "codemirror_mode": {
    "name": "ipython",
    "version": 3
   },
   "file_extension": ".py",
   "mimetype": "text/x-python",
   "name": "python",
   "nbconvert_exporter": "python",
   "pygments_lexer": "ipython3",
   "version": "3.11.8"
  }
 },
 "nbformat": 4,
 "nbformat_minor": 5
}
