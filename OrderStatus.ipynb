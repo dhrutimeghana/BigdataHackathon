{
 "cells": [
  {
   "cell_type": "code",
   "execution_count": 2,
   "id": "c39c098e-294d-4dd5-a4a5-feff25406e78",
   "metadata": {},
   "outputs": [],
   "source": [
    "import pyspark"
   ]
  },
  {
   "cell_type": "code",
   "execution_count": 3,
   "id": "97cfa721-956b-44e3-a32c-4bfc7cf52c66",
   "metadata": {},
   "outputs": [],
   "source": [
    "from pyspark.sql import SparkSession"
   ]
  },
  {
   "cell_type": "code",
   "execution_count": 4,
   "id": "2ba1989b-1a67-4e12-b8b1-01f183cdd040",
   "metadata": {},
   "outputs": [
    {
     "name": "stderr",
     "output_type": "stream",
     "text": [
      "24/03/28 16:47:28 WARN Utils: Your hostname, Vemulapallis-Mac-mini.local resolves to a loopback address: 127.0.0.1; using 192.168.0.107 instead (on interface en1)\n",
      "24/03/28 16:47:28 WARN Utils: Set SPARK_LOCAL_IP if you need to bind to another address\n",
      "Setting default log level to \"WARN\".\n",
      "To adjust logging level use sc.setLogLevel(newLevel). For SparkR, use setLogLevel(newLevel).\n",
      "24/03/28 16:47:28 WARN NativeCodeLoader: Unable to load native-hadoop library for your platform... using builtin-java classes where applicable\n",
      "24/03/28 16:47:29 WARN Utils: Service 'SparkUI' could not bind on port 4040. Attempting port 4041.\n"
     ]
    }
   ],
   "source": [
    "spark = SparkSession.builder.appName('Pyspark').getOrCreate()"
   ]
  },
  {
   "cell_type": "code",
   "execution_count": 5,
   "id": "8685943c-a429-4447-909e-09a0cc7bedde",
   "metadata": {},
   "outputs": [],
   "source": [
    "OrderHeaderDF = spark.read.csv(\n",
    "        f'AdventureWorks/SalesLT.SalesOrderHeader.csv',\n",
    "        header=True,\n",
    "        inferSchema=True\n",
    "    )"
   ]
  },
  {
   "cell_type": "code",
   "execution_count": 6,
   "id": "1f85818e-13a4-4297-b050-c4576293d4d9",
   "metadata": {},
   "outputs": [],
   "source": [
    "OrderDetailsDF = spark.read.csv(f'AdventureWorks/SalesLT.SalesOrderDetail.csv', header=True, inferSchema=True)"
   ]
  },
  {
   "cell_type": "code",
   "execution_count": 7,
   "id": "a321ca90-172b-482e-8fed-5d887edb1e3a",
   "metadata": {},
   "outputs": [],
   "source": [
    "from pyspark.sql.functions import col, isnan, when, count"
   ]
  },
  {
   "cell_type": "code",
   "execution_count": 8,
   "id": "fba4e98a-4dc3-4472-bf09-8b998f999880",
   "metadata": {},
   "outputs": [
    {
     "data": {
      "text/plain": [
       "['SalesOrderID',\n",
       " 'RevisionNumber',\n",
       " 'OrderDate',\n",
       " 'DueDate',\n",
       " 'ShipDate',\n",
       " 'Status',\n",
       " 'OnlineOrderFlag',\n",
       " 'SalesOrderNumber',\n",
       " 'PurchaseOrderNumber',\n",
       " 'AccountNumber',\n",
       " 'CustomerID',\n",
       " 'ShipToAddressID',\n",
       " 'BillToAddressID',\n",
       " 'ShipMethod',\n",
       " 'CreditCardApprovalCode',\n",
       " 'SubTotal',\n",
       " 'TaxAmt',\n",
       " 'Freight',\n",
       " 'TotalDue',\n",
       " 'Comment',\n",
       " 'rowguid',\n",
       " 'ModifiedDate']"
      ]
     },
     "execution_count": 8,
     "metadata": {},
     "output_type": "execute_result"
    }
   ],
   "source": [
    "#Drop columns with all Null Values from OrderHeaderDF\n",
    "\n",
    "#OrderHeaderDF.select([count(col(c)).alias(c)for c in OrderHeaderDF.columnns].show()\n",
    "OrderHeaderDF.columns\n",
    "\n"
   ]
  },
  {
   "cell_type": "code",
   "execution_count": 9,
   "id": "5d0fec93-a6c5-4870-abd4-0dfcda748fb6",
   "metadata": {},
   "outputs": [
    {
     "name": "stdout",
     "output_type": "stream",
     "text": [
      "+-------------------+\n",
      "|count(SalesOrderID)|\n",
      "+-------------------+\n",
      "|                 32|\n",
      "+-------------------+\n",
      "\n"
     ]
    }
   ],
   "source": [
    "OrderHeaderDF.select(count('SalesOrderID')).show()"
   ]
  },
  {
   "cell_type": "code",
   "execution_count": 10,
   "id": "b43a6144-1ac1-4a57-bf4b-41ef86ad35dc",
   "metadata": {},
   "outputs": [
    {
     "name": "stdout",
     "output_type": "stream",
     "text": [
      "+------------+--------------+---------+-------+--------+------+---------------+----------------+-------------------+-------------+----------+---------------+---------------+----------+----------------------+--------+------+-------+--------+-------+-------+------------+\n",
      "|SalesOrderID|RevisionNumber|OrderDate|DueDate|ShipDate|Status|OnlineOrderFlag|SalesOrderNumber|PurchaseOrderNumber|AccountNumber|CustomerID|ShipToAddressID|BillToAddressID|ShipMethod|CreditCardApprovalCode|SubTotal|TaxAmt|Freight|TotalDue|Comment|rowguid|ModifiedDate|\n",
      "+------------+--------------+---------+-------+--------+------+---------------+----------------+-------------------+-------------+----------+---------------+---------------+----------+----------------------+--------+------+-------+--------+-------+-------+------------+\n",
      "|           0|             0|        0|      0|       0|     0|              0|               0|                  0|            0|         0|              0|              0|         0|                     0|       0|     0|      0|       0|      0|      0|           0|\n",
      "+------------+--------------+---------+-------+--------+------+---------------+----------------+-------------------+-------------+----------+---------------+---------------+----------+----------------------+--------+------+-------+--------+-------+-------+------------+\n",
      "\n"
     ]
    }
   ],
   "source": [
    "OrderHeaderDF.select([count(when (col(c).isNull(),c)).alias(c) for c in OrderHeaderDF.columns]).show()"
   ]
  },
  {
   "cell_type": "code",
   "execution_count": 11,
   "id": "3ea143b8-7f71-47e1-931f-03a8309af303",
   "metadata": {},
   "outputs": [
    {
     "name": "stdout",
     "output_type": "stream",
     "text": [
      "+------------+--------------+---------+-------+--------+------+---------------+----------------+-------------------+-------------+----------+---------------+---------------+----------+----------------------+--------+------+-------+--------+-------+-------+------------+\n",
      "|SalesOrderID|RevisionNumber|OrderDate|DueDate|ShipDate|Status|OnlineOrderFlag|SalesOrderNumber|PurchaseOrderNumber|AccountNumber|CustomerID|ShipToAddressID|BillToAddressID|ShipMethod|CreditCardApprovalCode|SubTotal|TaxAmt|Freight|TotalDue|Comment|rowguid|ModifiedDate|\n",
      "+------------+--------------+---------+-------+--------+------+---------------+----------------+-------------------+-------------+----------+---------------+---------------+----------+----------------------+--------+------+-------+--------+-------+-------+------------+\n",
      "|           0|             0|        0|      0|       0|     0|              0|               0|                  0|            0|         0|              0|              0|         0|                    32|       0|     0|      0|       0|     32|      0|           0|\n",
      "+------------+--------------+---------+-------+--------+------+---------------+----------------+-------------------+-------------+----------+---------------+---------------+----------+----------------------+--------+------+-------+--------+-------+-------+------------+\n",
      "\n"
     ]
    }
   ],
   "source": [
    "OrderHeaderDF.select([count(when (col(c) == 'NULL',c)).alias(c) for c in OrderHeaderDF.columns]).show()"
   ]
  },
  {
   "cell_type": "code",
   "execution_count": 12,
   "id": "db5aad92-07bb-44fa-8dfb-00f0c35437d6",
   "metadata": {},
   "outputs": [],
   "source": [
    "OrderHeaderDF_NoNulls = OrderHeaderDF.drop(\"CreditCardApprovalCode\", \"Comment\")"
   ]
  },
  {
   "cell_type": "code",
   "execution_count": 13,
   "id": "a394fc84-a2e1-4e4e-9ccf-4ab805b94adb",
   "metadata": {},
   "outputs": [
    {
     "data": {
      "text/plain": [
       "['SalesOrderID',\n",
       " 'RevisionNumber',\n",
       " 'OrderDate',\n",
       " 'DueDate',\n",
       " 'ShipDate',\n",
       " 'Status',\n",
       " 'OnlineOrderFlag',\n",
       " 'SalesOrderNumber',\n",
       " 'PurchaseOrderNumber',\n",
       " 'AccountNumber',\n",
       " 'CustomerID',\n",
       " 'ShipToAddressID',\n",
       " 'BillToAddressID',\n",
       " 'ShipMethod',\n",
       " 'SubTotal',\n",
       " 'TaxAmt',\n",
       " 'Freight',\n",
       " 'TotalDue',\n",
       " 'rowguid',\n",
       " 'ModifiedDate']"
      ]
     },
     "execution_count": 13,
     "metadata": {},
     "output_type": "execute_result"
    }
   ],
   "source": [
    "OrderHeaderDF_NoNulls.columns"
   ]
  },
  {
   "cell_type": "code",
   "execution_count": 14,
   "id": "13141838-2279-40b9-a32c-8d3d2a4f8fe9",
   "metadata": {},
   "outputs": [
    {
     "name": "stdout",
     "output_type": "stream",
     "text": [
      "+------------+--------------+---------+-------+--------+------+---------------+----------------+-------------------+-------------+----------+---------------+---------------+----------+----------------------+--------+------+-------+--------+-------+-------+------------+\n",
      "|SalesOrderID|RevisionNumber|OrderDate|DueDate|ShipDate|Status|OnlineOrderFlag|SalesOrderNumber|PurchaseOrderNumber|AccountNumber|CustomerID|ShipToAddressID|BillToAddressID|ShipMethod|CreditCardApprovalCode|SubTotal|TaxAmt|Freight|TotalDue|Comment|rowguid|ModifiedDate|\n",
      "+------------+--------------+---------+-------+--------+------+---------------+----------------+-------------------+-------------+----------+---------------+---------------+----------+----------------------+--------+------+-------+--------+-------+-------+------------+\n",
      "|           0|             0|       32|     32|      32|     0|              0|               0|                  0|            0|         0|              0|              0|         0|                     0|       0|     0|      0|       0|      0|      0|          32|\n",
      "+------------+--------------+---------+-------+--------+------+---------------+----------------+-------------------+-------------+----------+---------------+---------------+----------+----------------------+--------+------+-------+--------+-------+-------+------------+\n",
      "\n"
     ]
    }
   ],
   "source": [
    "OrderHeaderDF.select([count(when (col(c) == '00:00.0' ,c)).alias(c) for c in OrderHeaderDF.columns]).show()"
   ]
  },
  {
   "cell_type": "code",
   "execution_count": 15,
   "id": "3709f2b5-61ef-4b1e-9cf6-251027c1ec14",
   "metadata": {},
   "outputs": [
    {
     "name": "stdout",
     "output_type": "stream",
     "text": [
      "+------------+--------------+---------+-------+--------+------+---------------+----------------+-------------------+-------------+----------+---------------+---------------+----------+----------------------+--------+------+-------+--------+-------+-------+------------+\n",
      "|SalesOrderID|RevisionNumber|OrderDate|DueDate|ShipDate|Status|OnlineOrderFlag|SalesOrderNumber|PurchaseOrderNumber|AccountNumber|CustomerID|ShipToAddressID|BillToAddressID|ShipMethod|CreditCardApprovalCode|SubTotal|TaxAmt|Freight|TotalDue|Comment|rowguid|ModifiedDate|\n",
      "+------------+--------------+---------+-------+--------+------+---------------+----------------+-------------------+-------------+----------+---------------+---------------+----------+----------------------+--------+------+-------+--------+-------+-------+------------+\n",
      "|           0|             0|        0|      0|       0|     0|             32|               0|                  0|            0|         0|              0|              0|         0|                     0|       0|     0|      0|       0|      0|      0|           0|\n",
      "+------------+--------------+---------+-------+--------+------+---------------+----------------+-------------------+-------------+----------+---------------+---------------+----------+----------------------+--------+------+-------+--------+-------+-------+------------+\n",
      "\n"
     ]
    }
   ],
   "source": [
    "OrderHeaderDF.select([count(when (col(c) == '0' ,c)).alias(c) for c in OrderHeaderDF.columns]).show()"
   ]
  },
  {
   "cell_type": "code",
   "execution_count": 16,
   "id": "86f3a3ed-926c-468b-96df-f7fb2179ff05",
   "metadata": {},
   "outputs": [],
   "source": [
    "OrderHeaderDF_cleaned = OrderHeaderDF_NoNulls.drop('OrderDate', 'DueDate', 'ShipDate', 'ModifiedDate','OnlineOrderFlag')"
   ]
  },
  {
   "cell_type": "code",
   "execution_count": 17,
   "id": "9da7a932-4efc-4f9c-b7fa-0be0676bc61d",
   "metadata": {
    "scrolled": true
   },
   "outputs": [
    {
     "name": "stdout",
     "output_type": "stream",
     "text": [
      "+------------+--------------+------+----------------+-------------------+--------------+----------+---------------+---------------+-----------------+-----------+---------+---------+----------+--------------------+\n",
      "|SalesOrderID|RevisionNumber|Status|SalesOrderNumber|PurchaseOrderNumber| AccountNumber|CustomerID|ShipToAddressID|BillToAddressID|       ShipMethod|   SubTotal|   TaxAmt|  Freight|  TotalDue|             rowguid|\n",
      "+------------+--------------+------+----------------+-------------------+--------------+----------+---------------+---------------+-----------------+-----------+---------+---------+----------+--------------------+\n",
      "|       71774|             2|     5|         SO71774|        PO348186287|10-4020-000609|     29847|           1092|           1092|CARGO TRANSPORT 5|   880.3484|  70.4279|  22.0087|   972.785|89E42CDC-8506-48A...|\n",
      "|       71776|             2|     2|         SO71776|      PO19952192051|10-4020-000106|     30072|            640|            640|CARGO TRANSPORT 5|      78.81|   6.3048|   1.9703|   87.0851|8A3448C5-E677-415...|\n",
      "|       71780|             2|     1|         SO71780|      PO19604173239|10-4020-000340|     30113|            653|            653|CARGO TRANSPORT 5| 38418.6895|3073.4952| 960.4672|42452.6519|A47665D2-7AC9-4CF...|\n",
      "|       71782|             2|     3|         SO71782|      PO19372114749|10-4020-000582|     29485|           1086|           1086|CARGO TRANSPORT 5| 39785.3304|3182.8264| 994.6333|43962.7901|F1BE45A5-5C57-4A5...|\n",
      "|       71783|             2|     4|         SO71783|      PO19343113609|10-4020-000024|     29957|            992|            992|CARGO TRANSPORT 5| 83858.4261|6708.6741|2096.4607|92663.5609|7DB2329E-6446-42A...|\n",
      "|       71784|             2|     5|         SO71784|      PO19285135919|10-4020-000448|     29736|            659|            659|CARGO TRANSPORT 5|108561.8317|8684.9465|2714.0458|119960.824|CA31F324-2C32-4F8...|\n",
      "|       71796|             2|     2|         SO71796|      PO17052159664|10-4020-000420|     29660|           1058|           1058|CARGO TRANSPORT 5| 57634.6342|4610.7707|1440.8659|63686.2708|917EF5BA-F32D-456...|\n",
      "|       71797|             2|     3|         SO71797|      PO16501134889|10-4020-000142|     29796|            642|            642|CARGO TRANSPORT 5| 78029.6898|6242.3752|1950.7422|86222.8072|BB3FEE84-C8BF-4DD...|\n",
      "|       71815|             2|     1|         SO71815|      PO13021155785|10-4020-000276|     30089|           1034|           1034|CARGO TRANSPORT 5|  1141.5782|  91.3263|  28.5395|  1261.444|2AA5F39B-1096-4A4...|\n",
      "|       71816|             2|     2|         SO71816|      PO12992180445|10-4020-000295|     30027|           1038|           1038|CARGO TRANSPORT 5|  3398.1659| 271.8533|  84.9541| 3754.9733|E3C189E7-98DE-4C4...|\n",
      "|       71831|             2|     2|         SO71831|      PO10295111084|10-4020-000322|     30019|            652|            652|CARGO TRANSPORT 5|  2016.3408| 161.3073|  50.4085| 2228.0566|625D76FC-C26F-414...|\n",
      "|       71832|             2|     3|         SO71832|      PO10353140756|10-4020-000088|     29922|            639|            639|CARGO TRANSPORT 5| 35775.2113|2862.0169| 894.3803|39531.6085|ADDB8620-432A-456...|\n",
      "|       71845|             2|     1|         SO71845|       PO2697119362|10-4020-000187|     29938|           1020|           1020|CARGO TRANSPORT 5| 41622.0511|3329.7641|1040.5513|45992.3665|E68F7EE9-C581-45C...|\n",
      "|       71846|             2|     2|         SO71846|       PO2378131604|10-4020-000635|     30102|            669|            669|CARGO TRANSPORT 5|  2453.7645| 196.3012|  61.3441| 2711.4098|A86D90AD-D1C0-440...|\n",
      "|       71856|             2|     2|         SO71856|      PO16530177647|10-4020-000601|     30033|           1090|           1090|CARGO TRANSPORT 5|   602.1946|  48.1756|  15.0549|  665.4251|05FEE073-0640-4A3...|\n",
      "|       71858|             2|     4|         SO71858|      PO16153112278|10-4020-000186|     29653|           1019|           1019|CARGO TRANSPORT 5| 13823.7083|1105.8967| 345.5927|15275.1977|5EF091E1-A0AF-437...|\n",
      "|       71863|             2|     4|         SO71863|      PO16124166561|10-4020-000649|     29975|           1098|           1098|CARGO TRANSPORT 5|  3324.2759| 265.9421|  83.1069| 3673.3249|3ED03B56-A4BF-487...|\n",
      "|       71867|             2|     3|         SO71867|      PO13050111529|10-4020-000160|     29644|            643|            643|CARGO TRANSPORT 5|    1059.31|  84.7448|  26.4828| 1170.5376|29743C1B-D3AF-4CF...|\n",
      "|       71885|             2|     1|         SO71885|       PO6119130779|10-4020-000268|     29612|            649|            649|CARGO TRANSPORT 5|    550.386|  44.0309|  13.7597|  608.1766|CAAD090D-56A6-444...|\n",
      "|       71895|             2|     1|         SO71895|       PO3770176273|10-4020-000151|     29584|           1014|           1014|CARGO TRANSPORT 5|   246.7392|  19.7391|   6.1685|  272.6468|07A17C0A-7F9A-441...|\n",
      "+------------+--------------+------+----------------+-------------------+--------------+----------+---------------+---------------+-----------------+-----------+---------+---------+----------+--------------------+\n",
      "only showing top 20 rows\n",
      "\n"
     ]
    }
   ],
   "source": [
    "OrderHeaderDF_cleaned.show()"
   ]
  },
  {
   "cell_type": "code",
   "execution_count": 18,
   "id": "09b00db5-f396-432e-8cf0-44977b888912",
   "metadata": {},
   "outputs": [
    {
     "name": "stdout",
     "output_type": "stream",
     "text": [
      "+-------------------+\n",
      "|count(SalesOrderID)|\n",
      "+-------------------+\n",
      "|                542|\n",
      "+-------------------+\n",
      "\n"
     ]
    }
   ],
   "source": [
    "OrderDetailsDF.select(count('SalesOrderID')).show()"
   ]
  },
  {
   "cell_type": "code",
   "execution_count": 19,
   "id": "9f0d7224-bee6-4d80-a701-d59fa2e36e85",
   "metadata": {},
   "outputs": [
    {
     "name": "stdout",
     "output_type": "stream",
     "text": [
      "+------------+------------------+--------+---------+---------+-----------------+---------+-------+------------+\n",
      "|SalesOrderID|SalesOrderDetailID|OrderQty|ProductID|UnitPrice|UnitPriceDiscount|LineTotal|rowguid|ModifiedDate|\n",
      "+------------+------------------+--------+---------+---------+-----------------+---------+-------+------------+\n",
      "|           0|                 0|       0|        0|        0|                0|        0|      0|           0|\n",
      "+------------+------------------+--------+---------+---------+-----------------+---------+-------+------------+\n",
      "\n"
     ]
    }
   ],
   "source": [
    "OrderDetailsDF.select([count(when (col(c) == 'NULL', c)).alias(c) for c in OrderDetailsDF.columns]).show()"
   ]
  },
  {
   "cell_type": "code",
   "execution_count": 20,
   "id": "5ad059d3-1246-4b49-acfa-d0423d2054eb",
   "metadata": {},
   "outputs": [
    {
     "name": "stdout",
     "output_type": "stream",
     "text": [
      "+------------+------------------+--------+---------+---------+-----------------+---------+-------+------------+\n",
      "|SalesOrderID|SalesOrderDetailID|OrderQty|ProductID|UnitPrice|UnitPriceDiscount|LineTotal|rowguid|ModifiedDate|\n",
      "+------------+------------------+--------+---------+---------+-----------------+---------+-------+------------+\n",
      "|           0|                 0|       0|        0|        0|                0|        0|      0|         542|\n",
      "+------------+------------------+--------+---------+---------+-----------------+---------+-------+------------+\n",
      "\n"
     ]
    }
   ],
   "source": [
    "OrderDetailsDF.select([count(when (col(c) == '00:00.0', c)).alias(c) for c in OrderDetailsDF.columns]).show()"
   ]
  },
  {
   "cell_type": "code",
   "execution_count": 21,
   "id": "63ddaac6-775a-4c8d-876b-ed58ddb22202",
   "metadata": {},
   "outputs": [],
   "source": [
    "OrderDetailsDF_cleaned = OrderDetailsDF.drop('ModifiedDate')"
   ]
  },
  {
   "cell_type": "code",
   "execution_count": 22,
   "id": "a1201a1b-12d8-4e66-83fd-d03bdb008a8e",
   "metadata": {},
   "outputs": [],
   "source": [
    "#Join OrderDetails and OrderDetailsHeader to get the status of the order.\n",
    "# Join based on SalesOrderID\n",
    "SalesOrderStatusDF = OrderHeaderDF_cleaned.join(OrderDetailsDF_cleaned,on='SalesOrderID')"
   ]
  },
  {
   "cell_type": "code",
   "execution_count": 23,
   "id": "9fb7b199-e40d-4814-86fc-aa4dba93e47a",
   "metadata": {},
   "outputs": [
    {
     "data": {
      "text/plain": [
       "['SalesOrderID',\n",
       " 'RevisionNumber',\n",
       " 'Status',\n",
       " 'SalesOrderNumber',\n",
       " 'PurchaseOrderNumber',\n",
       " 'AccountNumber',\n",
       " 'CustomerID',\n",
       " 'ShipToAddressID',\n",
       " 'BillToAddressID',\n",
       " 'ShipMethod',\n",
       " 'SubTotal',\n",
       " 'TaxAmt',\n",
       " 'Freight',\n",
       " 'TotalDue',\n",
       " 'rowguid',\n",
       " 'SalesOrderDetailID',\n",
       " 'OrderQty',\n",
       " 'ProductID',\n",
       " 'UnitPrice',\n",
       " 'UnitPriceDiscount',\n",
       " 'LineTotal',\n",
       " 'rowguid']"
      ]
     },
     "execution_count": 23,
     "metadata": {},
     "output_type": "execute_result"
    }
   ],
   "source": [
    "SalesOrderStatusDF.columns\n"
   ]
  },
  {
   "cell_type": "code",
   "execution_count": 24,
   "id": "b6671c44-c755-463b-945a-7c64535ed9a2",
   "metadata": {},
   "outputs": [],
   "source": [
    "SalesOrderStatusDF = SalesOrderStatusDF.drop('rowguid', 'rowguid')"
   ]
  },
  {
   "cell_type": "code",
   "execution_count": 25,
   "id": "cc5d34db-1f24-477b-bdbf-ee92686b55db",
   "metadata": {},
   "outputs": [
    {
     "name": "stdout",
     "output_type": "stream",
     "text": [
      "+------------+--------------+------+----------------+-------------------+--------------+----------+---------------+---------------+-----------------+----------+---------+--------+----------+------------------+--------+---------+---------+-----------------+---------+\n",
      "|SalesOrderID|RevisionNumber|Status|SalesOrderNumber|PurchaseOrderNumber| AccountNumber|CustomerID|ShipToAddressID|BillToAddressID|       ShipMethod|  SubTotal|   TaxAmt| Freight|  TotalDue|SalesOrderDetailID|OrderQty|ProductID|UnitPrice|UnitPriceDiscount|LineTotal|\n",
      "+------------+--------------+------+----------------+-------------------+--------------+----------+---------------+---------------+-----------------+----------+---------+--------+----------+------------------+--------+---------+---------+-----------------+---------+\n",
      "|       71774|             2|     5|         SO71774|        PO348186287|10-4020-000609|     29847|           1092|           1092|CARGO TRANSPORT 5|  880.3484|  70.4279| 22.0087|   972.785|            110562|       1|      836|  356.898|              0.0|  356.898|\n",
      "|       71774|             2|     5|         SO71774|        PO348186287|10-4020-000609|     29847|           1092|           1092|CARGO TRANSPORT 5|  880.3484|  70.4279| 22.0087|   972.785|            110563|       1|      822|  356.898|              0.0|  356.898|\n",
      "|       71776|             2|     2|         SO71776|      PO19952192051|10-4020-000106|     30072|            640|            640|CARGO TRANSPORT 5|     78.81|   6.3048|  1.9703|   87.0851|            110567|       1|      907|     63.9|              0.0|     63.9|\n",
      "|       71780|             2|     1|         SO71780|      PO19604173239|10-4020-000340|     30113|            653|            653|CARGO TRANSPORT 5|38418.6895|3073.4952|960.4672|42452.6519|            110616|       4|      905|  218.454|              0.0|  873.816|\n",
      "|       71780|             2|     1|         SO71780|      PO19604173239|10-4020-000340|     30113|            653|            653|CARGO TRANSPORT 5|38418.6895|3073.4952|960.4672|42452.6519|            110617|       2|      983|  461.694|              0.0|  923.388|\n",
      "|       71780|             2|     1|         SO71780|      PO19604173239|10-4020-000340|     30113|            653|            653|CARGO TRANSPORT 5|38418.6895|3073.4952|960.4672|42452.6519|            110618|       6|      988|  112.998|              0.4| 406.7928|\n",
      "|       71780|             2|     1|         SO71780|      PO19604173239|10-4020-000340|     30113|            653|            653|CARGO TRANSPORT 5|38418.6895|3073.4952|960.4672|42452.6519|            110619|       2|      748|    818.7|              0.0|   1637.4|\n",
      "|       71780|             2|     1|         SO71780|      PO19604173239|10-4020-000340|     30113|            653|            653|CARGO TRANSPORT 5|38418.6895|3073.4952|960.4672|42452.6519|            110620|       1|      990|  323.994|              0.0|  323.994|\n",
      "|       71780|             2|     1|         SO71780|      PO19604173239|10-4020-000340|     30113|            653|            653|CARGO TRANSPORT 5|38418.6895|3073.4952|960.4672|42452.6519|            110621|       1|      926|  149.874|              0.0|  149.874|\n",
      "|       71780|             2|     1|         SO71780|      PO19604173239|10-4020-000340|     30113|            653|            653|CARGO TRANSPORT 5|38418.6895|3073.4952|960.4672|42452.6519|            110622|       1|      743|   809.76|              0.0|   809.76|\n",
      "|       71780|             2|     1|         SO71780|      PO19604173239|10-4020-000340|     30113|            653|            653|CARGO TRANSPORT 5|38418.6895|3073.4952|960.4672|42452.6519|            110623|       4|      782| 1376.994|              0.0| 5507.976|\n",
      "|       71780|             2|     1|         SO71780|      PO19604173239|10-4020-000340|     30113|            653|            653|CARGO TRANSPORT 5|38418.6895|3073.4952|960.4672|42452.6519|            110624|       2|      918|   158.43|              0.0|   316.86|\n",
      "|       71780|             2|     1|         SO71780|      PO19604173239|10-4020-000340|     30113|            653|            653|CARGO TRANSPORT 5|38418.6895|3073.4952|960.4672|42452.6519|            110625|       4|      780| 1391.994|              0.0| 5567.976|\n",
      "|       71780|             2|     1|         SO71780|      PO19604173239|10-4020-000340|     30113|            653|            653|CARGO TRANSPORT 5|38418.6895|3073.4952|960.4672|42452.6519|            110626|       1|      937|   48.594|              0.0|   48.594|\n",
      "|       71780|             2|     1|         SO71780|      PO19604173239|10-4020-000340|     30113|            653|            653|CARGO TRANSPORT 5|38418.6895|3073.4952|960.4672|42452.6519|            110627|       6|      867|   41.994|              0.0|  251.964|\n",
      "|       71780|             2|     1|         SO71780|      PO19604173239|10-4020-000340|     30113|            653|            653|CARGO TRANSPORT 5|38418.6895|3073.4952|960.4672|42452.6519|            110628|       1|      985|  112.998|              0.4|  67.7988|\n",
      "|       71780|             2|     1|         SO71780|      PO19604173239|10-4020-000340|     30113|            653|            653|CARGO TRANSPORT 5|38418.6895|3073.4952|960.4672|42452.6519|            110629|       2|      989|  323.994|              0.0|  647.988|\n",
      "|       71780|             2|     1|         SO71780|      PO19604173239|10-4020-000340|     30113|            653|            653|CARGO TRANSPORT 5|38418.6895|3073.4952|960.4672|42452.6519|            110630|       3|      991|  323.994|              0.0|  971.982|\n",
      "|       71780|             2|     1|         SO71780|      PO19604173239|10-4020-000340|     30113|            653|            653|CARGO TRANSPORT 5|38418.6895|3073.4952|960.4672|42452.6519|            110631|       1|      992|  323.994|              0.0|  323.994|\n",
      "|       71780|             2|     1|         SO71780|      PO19604173239|10-4020-000340|     30113|            653|            653|CARGO TRANSPORT 5|38418.6895|3073.4952|960.4672|42452.6519|            110632|       2|      993|  323.994|              0.0|  647.988|\n",
      "+------------+--------------+------+----------------+-------------------+--------------+----------+---------------+---------------+-----------------+----------+---------+--------+----------+------------------+--------+---------+---------+-----------------+---------+\n",
      "only showing top 20 rows\n",
      "\n"
     ]
    }
   ],
   "source": [
    "SalesOrderStatusDF.show()"
   ]
  },
  {
   "cell_type": "code",
   "execution_count": 26,
   "id": "f207a149-47b6-4dc0-be16-25bc3ee81893",
   "metadata": {},
   "outputs": [
    {
     "name": "stdout",
     "output_type": "stream",
     "text": [
      "+-------------------+\n",
      "|count(SalesOrderID)|\n",
      "+-------------------+\n",
      "|                542|\n",
      "+-------------------+\n",
      "\n"
     ]
    }
   ],
   "source": [
    "#Check status on current Orders\n",
    "SalesOrderStatusDF.select(count('SalesOrderID')).show()\n"
   ]
  },
  {
   "cell_type": "code",
   "execution_count": 27,
   "id": "bdbf25f9-3335-48fb-a79b-9e9d90ed19fb",
   "metadata": {},
   "outputs": [
    {
     "name": "stdout",
     "output_type": "stream",
     "text": [
      "+---------+--------------------+-------------+-----+------------+---------+----+-------+-----------------+--------------+-------------+-----------+----------------+--------------------+----------------------+--------------------+------------+\n",
      "|ProductID|                Name|ProductNumber|Color|StandardCost|ListPrice|Size| Weight|ProductCategoryID|ProductModelID|SellStartDate|SellEndDate|DiscontinuedDate|      ThumbNailPhoto|ThumbnailPhotoFileName|             rowguid|ModifiedDate|\n",
      "+---------+--------------------+-------------+-----+------------+---------+----+-------+-----------------+--------------+-------------+-----------+----------------+--------------------+----------------------+--------------------+------------+\n",
      "|      680|HL Road Frame - B...|   FR-R92B-58|Black|     1059.31|   1431.5|  58|1016.04|               18|             6|      00:00.0|       NULL|            NULL|0x474946383961500...|  no_image_availabl...|43DD68D6-14A4-461...|     01:36.8|\n",
      "|      706|HL Road Frame - R...|   FR-R92R-58|  Red|     1059.31|   1431.5|  58|1016.04|               18|             6|      00:00.0|       NULL|            NULL|0x474946383961500...|  no_image_availabl...|9540FF17-2712-4C9...|     01:36.8|\n",
      "|      707|Sport-100 Helmet,...|    HL-U509-R|  Red|     13.0863|    34.99|NULL|   NULL|               35|            33|      00:00.0|       NULL|            NULL|0x474946383961500...|  no_image_availabl...|2E1EF41A-C08A-4FF...|     01:36.8|\n",
      "|      708|Sport-100 Helmet,...|      HL-U509|Black|     13.0863|    34.99|NULL|   NULL|               35|            33|      00:00.0|       NULL|            NULL|0x474946383961500...|  no_image_availabl...|A25A44FB-C2DE-426...|     01:36.8|\n",
      "|      709|Mountain Bike Soc...|    SO-B909-M|White|      3.3963|      9.5|   M|   NULL|               27|            18|      00:00.0|    00:00.0|            NULL|0x474946383961500...|  no_image_availabl...|18F95F47-1540-4E0...|     01:36.8|\n",
      "|      710|Mountain Bike Soc...|    SO-B909-L|White|      3.3963|      9.5|   L|   NULL|               27|            18|      00:00.0|    00:00.0|            NULL|0x474946383961500...|  no_image_availabl...|161C035E-21B3-4E1...|     01:36.8|\n",
      "|      711|Sport-100 Helmet,...|    HL-U509-B| Blue|     13.0863|    34.99|NULL|   NULL|               35|            33|      00:00.0|       NULL|            NULL|0x474946383961500...|  no_image_availabl...|FD7C0858-4179-48C...|     01:36.8|\n",
      "|      712|        AWC Logo Cap|      CA-1098|Multi|      6.9223|     8.99|NULL|   NULL|               23|             2|      00:00.0|       NULL|            NULL|0x474946383961500...|  no_image_availabl...|B9EDE243-A6F4-462...|     01:36.8|\n",
      "|      713|Long-Sleeve Logo ...|    LJ-0192-S|Multi|     38.4923|    49.99|   S|   NULL|               25|            11|      00:00.0|       NULL|            NULL|0x474946383961500...|  awc_jersey_male_s...|FD449C82-A259-4FA...|     01:36.8|\n",
      "|      714|Long-Sleeve Logo ...|    LJ-0192-M|Multi|     38.4923|    49.99|   M|   NULL|               25|            11|      00:00.0|       NULL|            NULL|0x474946383961500...|  awc_jersey_male_s...|6A290063-A0CF-432...|     01:36.8|\n",
      "|      715|Long-Sleeve Logo ...|    LJ-0192-L|Multi|     38.4923|    49.99|   L|   NULL|               25|            11|      00:00.0|       NULL|            NULL|0x474946383961500...|  awc_jersey_male_s...|34CF5EF5-C077-4EA...|     01:36.8|\n",
      "|      716|Long-Sleeve Logo ...|    LJ-0192-X|Multi|     38.4923|    49.99|  XL|   NULL|               25|            11|      00:00.0|       NULL|            NULL|0x474946383961500...|  awc_jersey_male_s...|6EC47EC9-C041-4DD...|     01:36.8|\n",
      "|      717|HL Road Frame - R...|   FR-R92R-62|  Red|    868.6342|   1431.5|  62|1043.26|               18|             6|      00:00.0|       NULL|            NULL|0x474946383961500...|  no_image_availabl...|052E4F8B-0A2A-46B...|     01:36.8|\n",
      "|      718|HL Road Frame - R...|   FR-R92R-44|  Red|    868.6342|   1431.5|  44| 961.61|               18|             6|      00:00.0|       NULL|            NULL|0x474946383961500...|  no_image_availabl...|A88D3B54-2CAE-43F...|     01:36.8|\n",
      "|      719|HL Road Frame - R...|   FR-R92R-48|  Red|    868.6342|   1431.5|  48| 979.75|               18|             6|      00:00.0|       NULL|            NULL|0x474946383961500...|  no_image_availabl...|07BEFC9A-7634-402...|     01:36.8|\n",
      "|      720|HL Road Frame - R...|   FR-R92R-52|  Red|    868.6342|   1431.5|  52|  997.9|               18|             6|      00:00.0|       NULL|            NULL|0x474946383961500...|  no_image_availabl...|FCFEA68F-310E-4E6...|     01:36.8|\n",
      "|      721|HL Road Frame - R...|   FR-R92R-56|  Red|    868.6342|   1431.5|  56|1016.04|               18|             6|      00:00.0|       NULL|            NULL|0x474946383961500...|  no_image_availabl...|56C85873-4993-41B...|     01:36.8|\n",
      "|      722|LL Road Frame - B...|   FR-R38B-58|Black|    204.6251|   337.22|  58|1115.83|               18|             9|      00:00.0|       NULL|            NULL|0x474946383961500...|  no_image_availabl...|2140F256-F705-4D6...|     01:36.8|\n",
      "|      723|LL Road Frame - B...|   FR-R38B-60|Black|    204.6251|   337.22|  60| 1124.9|               18|             9|      00:00.0|       NULL|            NULL|0x474946383961500...|  no_image_availabl...|AA95E2A5-E7C4-4B7...|     01:36.8|\n",
      "|      724|LL Road Frame - B...|   FR-R38B-62|Black|    204.6251|   337.22|  62|1133.98|               18|             9|      00:00.0|       NULL|            NULL|0x474946383961500...|  no_image_availabl...|5247BE33-50BF-452...|     01:36.8|\n",
      "+---------+--------------------+-------------+-----+------------+---------+----+-------+-----------------+--------------+-------------+-----------+----------------+--------------------+----------------------+--------------------+------------+\n",
      "only showing top 20 rows\n",
      "\n"
     ]
    }
   ],
   "source": [
    "#Preparation to add Product details in the SalesOrderStatus\n",
    "\n",
    "ProductDF = spark.read.csv(f'AdventureWorks/SalesLT.Product.csv', header=True, inferSchema=True)\n",
    "ProductDF.show()"
   ]
  },
  {
   "cell_type": "code",
   "execution_count": 28,
   "id": "62818fa1-e199-4681-900b-efe538d47e38",
   "metadata": {},
   "outputs": [
    {
     "name": "stdout",
     "output_type": "stream",
     "text": [
      "+----------------+\n",
      "|count(ProductID)|\n",
      "+----------------+\n",
      "|             295|\n",
      "+----------------+\n",
      "\n"
     ]
    }
   ],
   "source": [
    "ProductDF.select(count('ProductID')).show()"
   ]
  },
  {
   "cell_type": "code",
   "execution_count": 29,
   "id": "8d7b6ac6-90bf-4286-9a19-b8fba6f139dd",
   "metadata": {},
   "outputs": [
    {
     "name": "stdout",
     "output_type": "stream",
     "text": [
      "+---------+----+-------------+-----+------------+---------+----+------+-----------------+--------------+-------------+-----------+----------------+--------------+----------------------+-------+------------+\n",
      "|ProductID|Name|ProductNumber|Color|StandardCost|ListPrice|Size|Weight|ProductCategoryID|ProductModelID|SellStartDate|SellEndDate|DiscontinuedDate|ThumbNailPhoto|ThumbnailPhotoFileName|rowguid|ModifiedDate|\n",
      "+---------+----+-------------+-----+------------+---------+----+------+-----------------+--------------+-------------+-----------+----------------+--------------+----------------------+-------+------------+\n",
      "|        0|   0|            0|   50|           0|        0|  84|    97|                0|             0|            0|        197|             295|             0|                     0|      0|           0|\n",
      "+---------+----+-------------+-----+------------+---------+----+------+-----------------+--------------+-------------+-----------+----------------+--------------+----------------------+-------+------------+\n",
      "\n"
     ]
    }
   ],
   "source": [
    "ProductDF.select([count(when (col(c) == 'NULL' ,c)).alias(c) for c in ProductDF.columns]).show()"
   ]
  },
  {
   "cell_type": "code",
   "execution_count": 30,
   "id": "fe81e64b-03ae-4805-967e-9cb0e9e4bc8c",
   "metadata": {},
   "outputs": [
    {
     "name": "stdout",
     "output_type": "stream",
     "text": [
      "+---------+----+-------------+-----+------------+---------+----+------+-----------------+--------------+-------------+-----------+----------------+--------------+----------------------+-------+------------+\n",
      "|ProductID|Name|ProductNumber|Color|StandardCost|ListPrice|Size|Weight|ProductCategoryID|ProductModelID|SellStartDate|SellEndDate|DiscontinuedDate|ThumbNailPhoto|ThumbnailPhotoFileName|rowguid|ModifiedDate|\n",
      "+---------+----+-------------+-----+------------+---------+----+------+-----------------+--------------+-------------+-----------+----------------+--------------+----------------------+-------+------------+\n",
      "|        0|   0|            0|    0|           0|        0|   0|     0|                0|             0|          295|         98|               0|             0|                     0|      0|           0|\n",
      "+---------+----+-------------+-----+------------+---------+----+------+-----------------+--------------+-------------+-----------+----------------+--------------+----------------------+-------+------------+\n",
      "\n"
     ]
    }
   ],
   "source": [
    "ProductDF.select([count(when (col(c) == '00:00.0' ,c)).alias(c) for c in ProductDF.columns]).show()"
   ]
  },
  {
   "cell_type": "code",
   "execution_count": 31,
   "id": "5e808c70-c412-4edf-8972-2cffd776a8e8",
   "metadata": {},
   "outputs": [],
   "source": [
    "ProductDF = ProductDF.drop('DiscontinuedDate', 'SellStartDate', 'SellEndDate')"
   ]
  },
  {
   "cell_type": "code",
   "execution_count": 32,
   "id": "1acfc7fe-8a7a-4094-b39c-492e531bcb18",
   "metadata": {},
   "outputs": [],
   "source": [
    "OrderStatusDF = SalesOrderStatusDF.join(ProductDF, on='ProductID').select(SalesOrderStatusDF['SalesOrderID'], SalesOrderStatusDF['Status'], SalesOrderStatusDF['ProductID'], ProductDF['Name'], ProductDF['Color'])"
   ]
  },
  {
   "cell_type": "code",
   "execution_count": 33,
   "id": "26e5aa07-a385-4653-8c5d-210a03a0a947",
   "metadata": {},
   "outputs": [
    {
     "name": "stdout",
     "output_type": "stream",
     "text": [
      "+------------+------+---------+--------------------+------------+\n",
      "|SalesOrderID|Status|ProductID|                Name|       Color|\n",
      "+------------+------+---------+--------------------+------------+\n",
      "|       71774|     5|      836|ML Road Frame-W -...|      Yellow|\n",
      "|       71774|     5|      822|ML Road Frame-W -...|      Yellow|\n",
      "|       71776|     2|      907|         Rear Brakes|      Silver|\n",
      "|       71780|     1|      905|ML Mountain Frame...|      Silver|\n",
      "|       71780|     1|      983|Mountain-400-W Si...|      Silver|\n",
      "|       71780|     1|      988|Mountain-500 Silv...|      Silver|\n",
      "|       71780|     1|      748|HL Mountain Frame...|      Silver|\n",
      "|       71780|     1|      990|Mountain-500 Blac...|       Black|\n",
      "|       71780|     1|      926|LL Mountain Frame...|       Black|\n",
      "|       71780|     1|      743|HL Mountain Frame...|       Black|\n",
      "|       71780|     1|      782|Mountain-200 Blac...|       Black|\n",
      "|       71780|     1|      918|LL Mountain Frame...|      Silver|\n",
      "|       71780|     1|      780|Mountain-200 Silv...|      Silver|\n",
      "|       71780|     1|      937|   HL Mountain Pedal|Silver/Black|\n",
      "|       71780|     1|      867|Women's Mountain ...|       Black|\n",
      "|       71780|     1|      985|Mountain-500 Silv...|      Silver|\n",
      "|       71780|     1|      989|Mountain-500 Blac...|       Black|\n",
      "|       71780|     1|      991|Mountain-500 Blac...|       Black|\n",
      "|       71780|     1|      992|Mountain-500 Blac...|       Black|\n",
      "|       71780|     1|      993|Mountain-500 Blac...|       Black|\n",
      "+------------+------+---------+--------------------+------------+\n",
      "only showing top 20 rows\n",
      "\n"
     ]
    }
   ],
   "source": [
    "OrderStatusDF.show()"
   ]
  },
  {
   "cell_type": "code",
   "execution_count": 35,
   "id": "7d00c8b9-07a9-40e9-8e76-85ffd8282cf7",
   "metadata": {},
   "outputs": [
    {
     "name": "stdout",
     "output_type": "stream",
     "text": [
      "+------------+------+---------+--------------------+------+\n",
      "|SalesOrderID|Status|ProductID|                Name| Color|\n",
      "+------------+------+---------+--------------------+------+\n",
      "|       71774|     5|      836|ML Road Frame-W -...|Yellow|\n",
      "|       71774|     5|      822|ML Road Frame-W -...|Yellow|\n",
      "+------------+------+---------+--------------------+------+\n",
      "\n"
     ]
    }
   ],
   "source": [
    "#checking the status of a salesorder with salesOrderID = 71774\n",
    "OrderStatusDF.filter(OrderStatusDF.SalesOrderID == 71774).show()"
   ]
  },
  {
   "cell_type": "code",
   "execution_count": null,
   "id": "a7c793b4-1e5f-48a3-b9bf-bcad3fc10e22",
   "metadata": {},
   "outputs": [],
   "source": []
  }
 ],
 "metadata": {
  "kernelspec": {
   "display_name": "Python 3 (ipykernel)",
   "language": "python",
   "name": "python3"
  },
  "language_info": {
   "codemirror_mode": {
    "name": "ipython",
    "version": 3
   },
   "file_extension": ".py",
   "mimetype": "text/x-python",
   "name": "python",
   "nbconvert_exporter": "python",
   "pygments_lexer": "ipython3",
   "version": "3.11.8"
  }
 },
 "nbformat": 4,
 "nbformat_minor": 5
}
